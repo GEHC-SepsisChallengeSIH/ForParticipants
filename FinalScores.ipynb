{
 "cells": [
  {
   "cell_type": "markdown",
   "metadata": {},
   "source": [
    "# Day 1"
   ]
  },
  {
   "cell_type": "code",
   "execution_count": 9,
   "metadata": {},
   "outputs": [
    {
     "name": "stdout",
     "output_type": "stream",
     "text": [
      "Meces_Lutifier\n"
     ]
    },
    {
     "data": {
      "text/html": [
       "<div>\n",
       "<style scoped>\n",
       "    .dataframe tbody tr th:only-of-type {\n",
       "        vertical-align: middle;\n",
       "    }\n",
       "\n",
       "    .dataframe tbody tr th {\n",
       "        vertical-align: top;\n",
       "    }\n",
       "\n",
       "    .dataframe thead th {\n",
       "        text-align: right;\n",
       "    }\n",
       "</style>\n",
       "<table border=\"1\" class=\"dataframe\">\n",
       "  <thead>\n",
       "    <tr style=\"text-align: right;\">\n",
       "      <th></th>\n",
       "      <th>AUROC</th>\n",
       "      <th>AUPRC</th>\n",
       "      <th>Accuracy</th>\n",
       "      <th>F-measure</th>\n",
       "      <th>Utility</th>\n",
       "    </tr>\n",
       "  </thead>\n",
       "  <tbody>\n",
       "    <tr>\n",
       "      <th>0</th>\n",
       "      <td>0.611198</td>\n",
       "      <td>0.137407</td>\n",
       "      <td>0.602131</td>\n",
       "      <td>0.198959</td>\n",
       "      <td>0.444447</td>\n",
       "    </tr>\n",
       "  </tbody>\n",
       "</table>\n",
       "</div>"
      ],
      "text/plain": [
       "      AUROC     AUPRC  Accuracy  F-measure   Utility\n",
       "0  0.611198  0.137407  0.602131   0.198959  0.444447"
      ]
     },
     "metadata": {},
     "output_type": "display_data"
    },
    {
     "name": "stdout",
     "output_type": "stream",
     "text": [
      "Final Score = 0.39882832007114744\n",
      "Score Out of 20 = 7.976566401422948\n"
     ]
    }
   ],
   "source": [
    "import pandas as pd\n",
    "print('Meces_Lutifier')\n",
    "fileName = 'score_merceslutifier_Day1.psv'\n",
    "df = pd.read_csv(fileName,sep='|')\n",
    "display(df)\n",
    "s = sum(df.AUROC) + sum(df.AUPRC) + sum(df.Accuracy) + sum(df['F-measure']) + sum(df.Utility)\n",
    "print('Final Score = ' + str(s/5))\n",
    "print('Score Out of 20 = ' + str(20*(s/5)))"
   ]
  },
  {
   "cell_type": "code",
   "execution_count": 11,
   "metadata": {},
   "outputs": [
    {
     "name": "stdout",
     "output_type": "stream",
     "text": [
      "Aeye_BCET\n"
     ]
    },
    {
     "data": {
      "text/html": [
       "<div>\n",
       "<style scoped>\n",
       "    .dataframe tbody tr th:only-of-type {\n",
       "        vertical-align: middle;\n",
       "    }\n",
       "\n",
       "    .dataframe tbody tr th {\n",
       "        vertical-align: top;\n",
       "    }\n",
       "\n",
       "    .dataframe thead th {\n",
       "        text-align: right;\n",
       "    }\n",
       "</style>\n",
       "<table border=\"1\" class=\"dataframe\">\n",
       "  <thead>\n",
       "    <tr style=\"text-align: right;\">\n",
       "      <th></th>\n",
       "      <th>AUROC</th>\n",
       "      <th>AUPRC</th>\n",
       "      <th>Accuracy</th>\n",
       "      <th>F-measure</th>\n",
       "      <th>Utility</th>\n",
       "    </tr>\n",
       "  </thead>\n",
       "  <tbody>\n",
       "    <tr>\n",
       "      <th>0</th>\n",
       "      <td>0.629799</td>\n",
       "      <td>0.134387</td>\n",
       "      <td>0.619938</td>\n",
       "      <td>0.21786</td>\n",
       "      <td>0.476204</td>\n",
       "    </tr>\n",
       "  </tbody>\n",
       "</table>\n",
       "</div>"
      ],
      "text/plain": [
       "      AUROC     AUPRC  Accuracy  F-measure   Utility\n",
       "0  0.629799  0.134387  0.619938    0.21786  0.476204"
      ]
     },
     "metadata": {},
     "output_type": "display_data"
    },
    {
     "name": "stdout",
     "output_type": "stream",
     "text": [
      "Final Score = 0.4156375425352719\n",
      "Score Out of 20 = 8.312750850705438\n"
     ]
    }
   ],
   "source": [
    "print('Aeye_BCET')\n",
    "fileName = 'score_aeyebcet_Day1.psv'\n",
    "df = pd.read_csv(fileName,sep='|')\n",
    "display(df)\n",
    "s = sum(df.AUROC) + sum(df.AUPRC) + sum(df.Accuracy) + sum(df['F-measure']) + sum(df.Utility)\n",
    "print('Final Score = ' + str(s/5))\n",
    "print('Score Out of 20 = ' + str(20*(s/5)))"
   ]
  },
  {
   "cell_type": "code",
   "execution_count": 12,
   "metadata": {},
   "outputs": [
    {
     "name": "stdout",
     "output_type": "stream",
     "text": [
      "DeepThugs\n"
     ]
    },
    {
     "data": {
      "text/html": [
       "<div>\n",
       "<style scoped>\n",
       "    .dataframe tbody tr th:only-of-type {\n",
       "        vertical-align: middle;\n",
       "    }\n",
       "\n",
       "    .dataframe tbody tr th {\n",
       "        vertical-align: top;\n",
       "    }\n",
       "\n",
       "    .dataframe thead th {\n",
       "        text-align: right;\n",
       "    }\n",
       "</style>\n",
       "<table border=\"1\" class=\"dataframe\">\n",
       "  <thead>\n",
       "    <tr style=\"text-align: right;\">\n",
       "      <th></th>\n",
       "      <th>AUROC</th>\n",
       "      <th>AUPRC</th>\n",
       "      <th>Accuracy</th>\n",
       "      <th>F-measure</th>\n",
       "      <th>Utility</th>\n",
       "    </tr>\n",
       "  </thead>\n",
       "  <tbody>\n",
       "    <tr>\n",
       "      <th>0</th>\n",
       "      <td>0.965099</td>\n",
       "      <td>0.69026</td>\n",
       "      <td>0.906238</td>\n",
       "      <td>0.635221</td>\n",
       "      <td>0.810475</td>\n",
       "    </tr>\n",
       "  </tbody>\n",
       "</table>\n",
       "</div>"
      ],
      "text/plain": [
       "      AUROC    AUPRC  Accuracy  F-measure   Utility\n",
       "0  0.965099  0.69026  0.906238   0.635221  0.810475"
      ]
     },
     "metadata": {},
     "output_type": "display_data"
    },
    {
     "name": "stdout",
     "output_type": "stream",
     "text": [
      "Final Score = 0.8014584033326775\n",
      "Score Out of 20 = 16.02916806665355\n"
     ]
    }
   ],
   "source": [
    "print('DeepThugs')\n",
    "fileName = 'score_deepthugs_Day1.psv'\n",
    "df = pd.read_csv(fileName,sep='|')\n",
    "display(df)\n",
    "s = sum(df.AUROC) + sum(df.AUPRC) + sum(df.Accuracy) + sum(df['F-measure']) + sum(df.Utility)\n",
    "print('Final Score = ' + str(s/5))\n",
    "print('Score Out of 20 = ' + str(20*(s/5)))"
   ]
  },
  {
   "cell_type": "markdown",
   "metadata": {},
   "source": [
    "#### ****Teams XTerminator and Pymetrics did not submit predictions on Day 1 set"
   ]
  }
 ],
 "metadata": {
  "kernelspec": {
   "display_name": "Python 3",
   "language": "python",
   "name": "python3"
  },
  "language_info": {
   "codemirror_mode": {
    "name": "ipython",
    "version": 3
   },
   "file_extension": ".py",
   "mimetype": "text/x-python",
   "name": "python",
   "nbconvert_exporter": "python",
   "pygments_lexer": "ipython3",
   "version": "3.7.5"
  }
 },
 "nbformat": 4,
 "nbformat_minor": 4
}
